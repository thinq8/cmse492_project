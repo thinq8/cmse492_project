{
 "cells": [
  {
   "cell_type": "markdown",
   "id": "f3b5c016",
   "metadata": {},
   "source": [
    "# League of Legends Early-Game EDA\n",
    "\n",
    "This notebook delivers the exploratory analysis and baseline modeling required by the CMSE 492 Project Setup and Proposal assignment. The workflow establishes a clean train/test split, profiles the dataset, surfaces outcome-driven patterns, and records a simple baseline—all prerequisites for the upcoming project proposal and milestone planning."
   ]
  },
  {
   "cell_type": "markdown",
   "id": "6f0907f9",
   "metadata": {},
   "source": [
    "## 1. Environment Setup\n",
    "\n",
    "The assignment specifies using the scientific Python stack listed in `requirements.txt`. We load it here and configure plotting for consistent styling, even in headless environments."
   ]
  },
  {
   "cell_type": "code",
   "execution_count": 1,
   "id": "4308a809",
   "metadata": {},
   "outputs": [],
   "source": [
    "from __future__ import annotations\n",
    "\n",
    "import json\n",
    "from pathlib import Path\n",
    "\n",
    "import matplotlib\n",
    "matplotlib.use('Agg')  # Keep plots deterministic across local/remote runs\n",
    "import matplotlib.pyplot as plt\n",
    "import numpy as np\n",
    "import pandas as pd\n",
    "import seaborn as sns\n",
    "from sklearn.dummy import DummyClassifier\n",
    "from sklearn.linear_model import LogisticRegression\n",
    "from sklearn.metrics import accuracy_score, f1_score, roc_auc_score\n",
    "from sklearn.model_selection import train_test_split\n",
    "from sklearn.pipeline import Pipeline\n",
    "from sklearn.preprocessing import StandardScaler\n",
    "\n",
    "sns.set_theme(style='whitegrid')"
   ]
  },
  {
   "cell_type": "markdown",
   "id": "049a5118",
   "metadata": {},
   "source": [
    "## 2. Data Source and Loading\n",
    "\n",
    "Per the requirements, we document provenance before analysis. The dataset comes from Kaggle's *League of Legends Diamond Ranked Games (10 min)* collection, which aggregates high-level ranked matches with team statistics captured through the first ten minutes."
   ]
  },
  {
   "cell_type": "code",
   "execution_count": 11,
   "id": "3eabd941",
   "metadata": {},
   "outputs": [
    {
     "data": {
      "text/html": [
       "<div>\n",
       "<style scoped>\n",
       "    .dataframe tbody tr th:only-of-type {\n",
       "        vertical-align: middle;\n",
       "    }\n",
       "\n",
       "    .dataframe tbody tr th {\n",
       "        vertical-align: top;\n",
       "    }\n",
       "\n",
       "    .dataframe thead th {\n",
       "        text-align: right;\n",
       "    }\n",
       "</style>\n",
       "<table border=\"1\" class=\"dataframe\">\n",
       "  <thead>\n",
       "    <tr style=\"text-align: right;\">\n",
       "      <th></th>\n",
       "      <th>gameId</th>\n",
       "      <th>blueWins</th>\n",
       "      <th>blueWardsPlaced</th>\n",
       "      <th>blueWardsDestroyed</th>\n",
       "      <th>blueFirstBlood</th>\n",
       "      <th>blueKills</th>\n",
       "      <th>blueDeaths</th>\n",
       "      <th>blueAssists</th>\n",
       "      <th>blueEliteMonsters</th>\n",
       "      <th>blueDragons</th>\n",
       "      <th>...</th>\n",
       "      <th>redTowersDestroyed</th>\n",
       "      <th>redTotalGold</th>\n",
       "      <th>redAvgLevel</th>\n",
       "      <th>redTotalExperience</th>\n",
       "      <th>redTotalMinionsKilled</th>\n",
       "      <th>redTotalJungleMinionsKilled</th>\n",
       "      <th>redGoldDiff</th>\n",
       "      <th>redExperienceDiff</th>\n",
       "      <th>redCSPerMin</th>\n",
       "      <th>redGoldPerMin</th>\n",
       "    </tr>\n",
       "  </thead>\n",
       "  <tbody>\n",
       "    <tr>\n",
       "      <th>0</th>\n",
       "      <td>4519157822</td>\n",
       "      <td>0</td>\n",
       "      <td>28</td>\n",
       "      <td>2</td>\n",
       "      <td>1</td>\n",
       "      <td>9</td>\n",
       "      <td>6</td>\n",
       "      <td>11</td>\n",
       "      <td>0</td>\n",
       "      <td>0</td>\n",
       "      <td>...</td>\n",
       "      <td>0</td>\n",
       "      <td>16567</td>\n",
       "      <td>6.8</td>\n",
       "      <td>17047</td>\n",
       "      <td>197</td>\n",
       "      <td>55</td>\n",
       "      <td>-643</td>\n",
       "      <td>8</td>\n",
       "      <td>19.7</td>\n",
       "      <td>1656.7</td>\n",
       "    </tr>\n",
       "    <tr>\n",
       "      <th>1</th>\n",
       "      <td>4523371949</td>\n",
       "      <td>0</td>\n",
       "      <td>12</td>\n",
       "      <td>1</td>\n",
       "      <td>0</td>\n",
       "      <td>5</td>\n",
       "      <td>5</td>\n",
       "      <td>5</td>\n",
       "      <td>0</td>\n",
       "      <td>0</td>\n",
       "      <td>...</td>\n",
       "      <td>1</td>\n",
       "      <td>17620</td>\n",
       "      <td>6.8</td>\n",
       "      <td>17438</td>\n",
       "      <td>240</td>\n",
       "      <td>52</td>\n",
       "      <td>2908</td>\n",
       "      <td>1173</td>\n",
       "      <td>24.0</td>\n",
       "      <td>1762.0</td>\n",
       "    </tr>\n",
       "    <tr>\n",
       "      <th>2</th>\n",
       "      <td>4521474530</td>\n",
       "      <td>0</td>\n",
       "      <td>15</td>\n",
       "      <td>0</td>\n",
       "      <td>0</td>\n",
       "      <td>7</td>\n",
       "      <td>11</td>\n",
       "      <td>4</td>\n",
       "      <td>1</td>\n",
       "      <td>1</td>\n",
       "      <td>...</td>\n",
       "      <td>0</td>\n",
       "      <td>17285</td>\n",
       "      <td>6.8</td>\n",
       "      <td>17254</td>\n",
       "      <td>203</td>\n",
       "      <td>28</td>\n",
       "      <td>1172</td>\n",
       "      <td>1033</td>\n",
       "      <td>20.3</td>\n",
       "      <td>1728.5</td>\n",
       "    </tr>\n",
       "    <tr>\n",
       "      <th>3</th>\n",
       "      <td>4524384067</td>\n",
       "      <td>0</td>\n",
       "      <td>43</td>\n",
       "      <td>1</td>\n",
       "      <td>0</td>\n",
       "      <td>4</td>\n",
       "      <td>5</td>\n",
       "      <td>5</td>\n",
       "      <td>1</td>\n",
       "      <td>0</td>\n",
       "      <td>...</td>\n",
       "      <td>0</td>\n",
       "      <td>16478</td>\n",
       "      <td>7.0</td>\n",
       "      <td>17961</td>\n",
       "      <td>235</td>\n",
       "      <td>47</td>\n",
       "      <td>1321</td>\n",
       "      <td>7</td>\n",
       "      <td>23.5</td>\n",
       "      <td>1647.8</td>\n",
       "    </tr>\n",
       "    <tr>\n",
       "      <th>4</th>\n",
       "      <td>4436033771</td>\n",
       "      <td>0</td>\n",
       "      <td>75</td>\n",
       "      <td>4</td>\n",
       "      <td>0</td>\n",
       "      <td>6</td>\n",
       "      <td>6</td>\n",
       "      <td>6</td>\n",
       "      <td>0</td>\n",
       "      <td>0</td>\n",
       "      <td>...</td>\n",
       "      <td>0</td>\n",
       "      <td>17404</td>\n",
       "      <td>7.0</td>\n",
       "      <td>18313</td>\n",
       "      <td>225</td>\n",
       "      <td>67</td>\n",
       "      <td>1004</td>\n",
       "      <td>-230</td>\n",
       "      <td>22.5</td>\n",
       "      <td>1740.4</td>\n",
       "    </tr>\n",
       "  </tbody>\n",
       "</table>\n",
       "<p>5 rows × 40 columns</p>\n",
       "</div>"
      ],
      "text/plain": [
       "       gameId  blueWins  blueWardsPlaced  blueWardsDestroyed  blueFirstBlood  \\\n",
       "0  4519157822         0               28                   2               1   \n",
       "1  4523371949         0               12                   1               0   \n",
       "2  4521474530         0               15                   0               0   \n",
       "3  4524384067         0               43                   1               0   \n",
       "4  4436033771         0               75                   4               0   \n",
       "\n",
       "   blueKills  blueDeaths  blueAssists  blueEliteMonsters  blueDragons  ...  \\\n",
       "0          9           6           11                  0            0  ...   \n",
       "1          5           5            5                  0            0  ...   \n",
       "2          7          11            4                  1            1  ...   \n",
       "3          4           5            5                  1            0  ...   \n",
       "4          6           6            6                  0            0  ...   \n",
       "\n",
       "   redTowersDestroyed  redTotalGold  redAvgLevel  redTotalExperience  \\\n",
       "0                   0         16567          6.8               17047   \n",
       "1                   1         17620          6.8               17438   \n",
       "2                   0         17285          6.8               17254   \n",
       "3                   0         16478          7.0               17961   \n",
       "4                   0         17404          7.0               18313   \n",
       "\n",
       "   redTotalMinionsKilled  redTotalJungleMinionsKilled  redGoldDiff  \\\n",
       "0                    197                           55         -643   \n",
       "1                    240                           52         2908   \n",
       "2                    203                           28         1172   \n",
       "3                    235                           47         1321   \n",
       "4                    225                           67         1004   \n",
       "\n",
       "   redExperienceDiff  redCSPerMin  redGoldPerMin  \n",
       "0                  8         19.7         1656.7  \n",
       "1               1173         24.0         1762.0  \n",
       "2               1033         20.3         1728.5  \n",
       "3                  7         23.5         1647.8  \n",
       "4               -230         22.5         1740.4  \n",
       "\n",
       "[5 rows x 40 columns]"
      ]
     },
     "execution_count": 11,
     "metadata": {},
     "output_type": "execute_result"
    }
   ],
   "source": [
    "RAW_PATH = Path('/Users/liamsandy/ML_Project/data/raw/high_diamond_ranked_10min.csv')\n",
    "if not RAW_PATH.exists():\n",
    "    raise FileNotFoundError(f'Dataset missing at {RAW_PATH}')\n",
    "\n",
    "df = pd.read_csv(RAW_PATH)\n",
    "df.head()"
   ]
  },
  {
   "cell_type": "markdown",
   "id": "23f7a181",
   "metadata": {},
   "source": [
    "We capture fundamental metadata—table shape and column data types—so the proposal can state the dataset size and feature mix explicitly."
   ]
  },
  {
   "cell_type": "code",
   "execution_count": 13,
   "id": "cb0cfec8",
   "metadata": {},
   "outputs": [
    {
     "data": {
      "text/plain": [
       "((9879, 40),\n",
       "                     dtype\n",
       " gameId              int64\n",
       " blueWins            int64\n",
       " blueWardsPlaced     int64\n",
       " blueWardsDestroyed  int64\n",
       " blueFirstBlood      int64)"
      ]
     },
     "execution_count": 13,
     "metadata": {},
     "output_type": "execute_result"
    }
   ],
   "source": [
    "df_shape = df.shape\n",
    "df_dtypes = df.dtypes.to_frame('dtype')\n",
    "df_shape, df_dtypes.head()"
   ]
  },
  {
   "cell_type": "markdown",
   "id": "5c71529c",
   "metadata": {},
   "source": [
    "The assignment also requests saving a sample to `data/processed/` for quick inspection by reviewers or teammates."
   ]
  },
  {
   "cell_type": "code",
   "execution_count": 15,
   "id": "64653bcd",
   "metadata": {},
   "outputs": [
    {
     "data": {
      "text/plain": [
       "PosixPath('data/processed/sample_matches.csv')"
      ]
     },
     "execution_count": 15,
     "metadata": {},
     "output_type": "execute_result"
    }
   ],
   "source": [
    "processed_dir = Path('data/processed')\n",
    "processed_dir.mkdir(parents=True, exist_ok=True)\n",
    "sample_path = processed_dir / 'sample_matches.csv'\n",
    "df.sample(n=200, random_state=42).to_csv(sample_path, index=False)\n",
    "sample_path"
   ]
  },
  {
   "cell_type": "markdown",
   "id": "b863e239",
   "metadata": {},
   "source": [
    "## 3. Train/Test Split\n",
    "\n",
    "We follow the requirement to split data prior to deeper EDA, reserving 20% of matches for a held-out set and stratifying on the binary target `blueWins` to preserve class balance."
   ]
  },
  {
   "cell_type": "code",
   "execution_count": 17,
   "id": "cdbbf20f",
   "metadata": {},
   "outputs": [
    {
     "data": {
      "text/plain": [
       "((7903, 40), (1976, 40))"
      ]
     },
     "execution_count": 17,
     "metadata": {},
     "output_type": "execute_result"
    }
   ],
   "source": [
    "TARGET = 'blueWins'\n",
    "TEST_SIZE = 0.2\n",
    "RANDOM_STATE = 42\n",
    "\n",
    "train_df, test_df = train_test_split(\n",
    "    df,\n",
    "    test_size=TEST_SIZE,\n",
    "    stratify=df[TARGET],\n",
    "    random_state=RANDOM_STATE,\n",
    ")\n",
    "train_df.shape, test_df.shape"
   ]
  },
  {
   "cell_type": "markdown",
   "id": "445bdea2",
   "metadata": {},
   "source": [
    "## 4. Dataset Profile\n",
    "\n",
    "We record the core profiling statistics—row counts, feature counts, class balance, and missingness—for reuse in the proposal's Data Description section."
   ]
  },
  {
   "cell_type": "code",
   "execution_count": 19,
   "id": "afe8ba32",
   "metadata": {},
   "outputs": [
    {
     "data": {
      "text/plain": [
       "{'train_rows': 7903,\n",
       " 'test_rows': 1976,\n",
       " 'n_features': 39,\n",
       " 'class_balance_train': {0: 0.5009, 1: 0.4991},\n",
       " 'missing_rates': {'gameId': 0.0,\n",
       "  'blueWins': 0.0,\n",
       "  'blueWardsPlaced': 0.0,\n",
       "  'blueWardsDestroyed': 0.0,\n",
       "  'blueFirstBlood': 0.0,\n",
       "  'blueKills': 0.0,\n",
       "  'blueDeaths': 0.0,\n",
       "  'blueAssists': 0.0,\n",
       "  'blueEliteMonsters': 0.0,\n",
       "  'blueDragons': 0.0,\n",
       "  'blueHeralds': 0.0,\n",
       "  'blueTowersDestroyed': 0.0,\n",
       "  'blueTotalGold': 0.0,\n",
       "  'blueAvgLevel': 0.0,\n",
       "  'blueTotalExperience': 0.0,\n",
       "  'blueTotalMinionsKilled': 0.0,\n",
       "  'blueTotalJungleMinionsKilled': 0.0,\n",
       "  'blueGoldDiff': 0.0,\n",
       "  'blueExperienceDiff': 0.0,\n",
       "  'blueCSPerMin': 0.0,\n",
       "  'blueGoldPerMin': 0.0,\n",
       "  'redWardsPlaced': 0.0,\n",
       "  'redWardsDestroyed': 0.0,\n",
       "  'redFirstBlood': 0.0,\n",
       "  'redKills': 0.0,\n",
       "  'redDeaths': 0.0,\n",
       "  'redAssists': 0.0,\n",
       "  'redEliteMonsters': 0.0,\n",
       "  'redDragons': 0.0,\n",
       "  'redHeralds': 0.0,\n",
       "  'redTowersDestroyed': 0.0,\n",
       "  'redTotalGold': 0.0,\n",
       "  'redAvgLevel': 0.0,\n",
       "  'redTotalExperience': 0.0,\n",
       "  'redTotalMinionsKilled': 0.0,\n",
       "  'redTotalJungleMinionsKilled': 0.0,\n",
       "  'redGoldDiff': 0.0,\n",
       "  'redExperienceDiff': 0.0,\n",
       "  'redCSPerMin': 0.0,\n",
       "  'redGoldPerMin': 0.0}}"
      ]
     },
     "execution_count": 19,
     "metadata": {},
     "output_type": "execute_result"
    }
   ],
   "source": [
    "profile = {\n",
    "    'train_rows': int(train_df.shape[0]),\n",
    "    'test_rows': int(test_df.shape[0]),\n",
    "    'n_features': int(train_df.shape[1] - 1),\n",
    "    'class_balance_train': train_df[TARGET].value_counts(normalize=True).round(4).to_dict(),\n",
    "    'missing_rates': train_df.isnull().mean().round(4).to_dict(),\n",
    "}\n",
    "profile"
   ]
  },
  {
   "cell_type": "markdown",
   "id": "d3bfb47e",
   "metadata": {},
   "source": [
    "### Descriptive Statistics\n",
    "\n",
    "Numerical summaries help flag anomalous ranges and guide scaling choices for baseline models."
   ]
  },
  {
   "cell_type": "code",
   "execution_count": 21,
   "id": "378749a0",
   "metadata": {},
   "outputs": [
    {
     "data": {
      "text/html": [
       "<div>\n",
       "<style scoped>\n",
       "    .dataframe tbody tr th:only-of-type {\n",
       "        vertical-align: middle;\n",
       "    }\n",
       "\n",
       "    .dataframe tbody tr th {\n",
       "        vertical-align: top;\n",
       "    }\n",
       "\n",
       "    .dataframe thead th {\n",
       "        text-align: right;\n",
       "    }\n",
       "</style>\n",
       "<table border=\"1\" class=\"dataframe\">\n",
       "  <thead>\n",
       "    <tr style=\"text-align: right;\">\n",
       "      <th></th>\n",
       "      <th>count</th>\n",
       "      <th>mean</th>\n",
       "      <th>std</th>\n",
       "      <th>min</th>\n",
       "      <th>25%</th>\n",
       "      <th>50%</th>\n",
       "      <th>75%</th>\n",
       "      <th>max</th>\n",
       "    </tr>\n",
       "  </thead>\n",
       "  <tbody>\n",
       "    <tr>\n",
       "      <th>gameId</th>\n",
       "      <td>7903.0</td>\n",
       "      <td>4.500003e+09</td>\n",
       "      <td>2.736595e+07</td>\n",
       "      <td>4.295358e+09</td>\n",
       "      <td>4.482322e+09</td>\n",
       "      <td>4.510743e+09</td>\n",
       "      <td>4.521693e+09</td>\n",
       "      <td>4.527991e+09</td>\n",
       "    </tr>\n",
       "    <tr>\n",
       "      <th>blueWins</th>\n",
       "      <td>7903.0</td>\n",
       "      <td>4.990510e-01</td>\n",
       "      <td>5.000307e-01</td>\n",
       "      <td>0.000000e+00</td>\n",
       "      <td>0.000000e+00</td>\n",
       "      <td>0.000000e+00</td>\n",
       "      <td>1.000000e+00</td>\n",
       "      <td>1.000000e+00</td>\n",
       "    </tr>\n",
       "    <tr>\n",
       "      <th>blueWardsPlaced</th>\n",
       "      <td>7903.0</td>\n",
       "      <td>2.239011e+01</td>\n",
       "      <td>1.817242e+01</td>\n",
       "      <td>5.000000e+00</td>\n",
       "      <td>1.400000e+01</td>\n",
       "      <td>1.600000e+01</td>\n",
       "      <td>2.000000e+01</td>\n",
       "      <td>2.500000e+02</td>\n",
       "    </tr>\n",
       "    <tr>\n",
       "      <th>blueWardsDestroyed</th>\n",
       "      <td>7903.0</td>\n",
       "      <td>2.849424e+00</td>\n",
       "      <td>2.181258e+00</td>\n",
       "      <td>0.000000e+00</td>\n",
       "      <td>1.000000e+00</td>\n",
       "      <td>3.000000e+00</td>\n",
       "      <td>4.000000e+00</td>\n",
       "      <td>2.500000e+01</td>\n",
       "    </tr>\n",
       "    <tr>\n",
       "      <th>blueFirstBlood</th>\n",
       "      <td>7903.0</td>\n",
       "      <td>5.047450e-01</td>\n",
       "      <td>5.000091e-01</td>\n",
       "      <td>0.000000e+00</td>\n",
       "      <td>0.000000e+00</td>\n",
       "      <td>1.000000e+00</td>\n",
       "      <td>1.000000e+00</td>\n",
       "      <td>1.000000e+00</td>\n",
       "    </tr>\n",
       "  </tbody>\n",
       "</table>\n",
       "</div>"
      ],
      "text/plain": [
       "                     count          mean           std           min  \\\n",
       "gameId              7903.0  4.500003e+09  2.736595e+07  4.295358e+09   \n",
       "blueWins            7903.0  4.990510e-01  5.000307e-01  0.000000e+00   \n",
       "blueWardsPlaced     7903.0  2.239011e+01  1.817242e+01  5.000000e+00   \n",
       "blueWardsDestroyed  7903.0  2.849424e+00  2.181258e+00  0.000000e+00   \n",
       "blueFirstBlood      7903.0  5.047450e-01  5.000091e-01  0.000000e+00   \n",
       "\n",
       "                             25%           50%           75%           max  \n",
       "gameId              4.482322e+09  4.510743e+09  4.521693e+09  4.527991e+09  \n",
       "blueWins            0.000000e+00  0.000000e+00  1.000000e+00  1.000000e+00  \n",
       "blueWardsPlaced     1.400000e+01  1.600000e+01  2.000000e+01  2.500000e+02  \n",
       "blueWardsDestroyed  1.000000e+00  3.000000e+00  4.000000e+00  2.500000e+01  \n",
       "blueFirstBlood      0.000000e+00  1.000000e+00  1.000000e+00  1.000000e+00  "
      ]
     },
     "execution_count": 21,
     "metadata": {},
     "output_type": "execute_result"
    }
   ],
   "source": [
    "numeric_summary = train_df.select_dtypes(include=[np.number]).describe().T\n",
    "numeric_summary.head()"
   ]
  },
  {
   "cell_type": "markdown",
   "id": "36ed5ebe",
   "metadata": {},
   "source": [
    "### Missingness Visualization\n",
    "\n",
    "Even though this dataset is known to be complete, we include a visualization to explicitly document the absence of missing values, fulfilling the EDA checklist."
   ]
  },
  {
   "cell_type": "code",
   "execution_count": 23,
   "id": "d7ac5320",
   "metadata": {},
   "outputs": [
    {
     "data": {
      "text/plain": [
       "gameId               0.0\n",
       "blueWins             0.0\n",
       "redWardsDestroyed    0.0\n",
       "redFirstBlood        0.0\n",
       "redKills             0.0\n",
       "dtype: float64"
      ]
     },
     "execution_count": 23,
     "metadata": {},
     "output_type": "execute_result"
    }
   ],
   "source": [
    "figures_dir = Path('figures/eda')\n",
    "figures_dir.mkdir(parents=True, exist_ok=True)\n",
    "\n",
    "missing_rates = pd.Series(profile['missing_rates']).sort_values(ascending=False)\n",
    "fig, ax = plt.subplots(figsize=(8, 4))\n",
    "missing_rates.head(15).plot(kind='bar', ax=ax, color='#7570b3')\n",
    "ax.set_ylabel('Fraction Missing')\n",
    "ax.set_title('Top Feature Missingness (Train Split)')\n",
    "fig.tight_layout()\n",
    "fig.savefig(figures_dir / 'missingness.png', dpi=300)\n",
    "plt.close(fig)\n",
    "missing_rates.head()"
   ]
  },
  {
   "cell_type": "markdown",
   "id": "ae1c350f",
   "metadata": {},
   "source": [
    "## 5. Target Correlations\n",
    "\n",
    "Correlations with `blueWins` inform which signals (e.g., gold and experience advantages) should be prioritized in baseline models and hypothesis testing."
   ]
  },
  {
   "cell_type": "code",
   "execution_count": 25,
   "id": "605338ce",
   "metadata": {},
   "outputs": [
    {
     "data": {
      "text/plain": [
       "redGoldDiff           -0.512365\n",
       "blueGoldDiff           0.512365\n",
       "redExperienceDiff     -0.489471\n",
       "blueExperienceDiff     0.489471\n",
       "blueTotalGold          0.416703\n",
       "blueGoldPerMin         0.416703\n",
       "redGoldPerMin         -0.410694\n",
       "redTotalGold          -0.410694\n",
       "redTotalExperience    -0.391754\n",
       "blueTotalExperience    0.391026\n",
       "Name: blueWins, dtype: float64"
      ]
     },
     "execution_count": 25,
     "metadata": {},
     "output_type": "execute_result"
    }
   ],
   "source": [
    "corr_with_target = (\n",
    "    train_df.select_dtypes(include=[np.number]).corr()[TARGET]\n",
    "    .drop(TARGET)\n",
    "    .sort_values(key=lambda s: s.abs(), ascending=False)\n",
    ")\n",
    "corr_with_target.head(10)"
   ]
  },
  {
   "cell_type": "markdown",
   "id": "1ad97f68",
   "metadata": {},
   "source": [
    "## 6. Visual Diagnostics\n",
    "\n",
    "These figures will feed directly into the proposal's Data Description and Motivation sections, highlighting class balance, feature distributions, objective control, and feature interplay."
   ]
  },
  {
   "cell_type": "code",
   "execution_count": 27,
   "id": "bdaa7a01",
   "metadata": {},
   "outputs": [
    {
     "data": {
      "text/plain": [
       "blueWins\n",
       "0    3959\n",
       "1    3944\n",
       "Name: count, dtype: int64"
      ]
     },
     "execution_count": 27,
     "metadata": {},
     "output_type": "execute_result"
    }
   ],
   "source": [
    "# Class balance\n",
    "fig, ax = plt.subplots(figsize=(6, 4))\n",
    "class_counts = train_df[TARGET].value_counts().sort_index()\n",
    "ax.bar(['Red Wins (0)', 'Blue Wins (1)'], class_counts.values, color=['#d95f02', '#1b9e77'])\n",
    "ax.set_ylabel('Match Count')\n",
    "ax.set_title('Train Split Class Balance')\n",
    "for label, count in zip(['Red Wins (0)', 'Blue Wins (1)'], class_counts.values):\n",
    "    ax.annotate(f'{count}', (label, count), ha='center', va='bottom', fontsize=9)\n",
    "fig.tight_layout()\n",
    "fig.savefig(figures_dir / 'class_balance.png', dpi=300)\n",
    "plt.close(fig)\n",
    "class_counts"
   ]
  },
  {
   "cell_type": "code",
   "execution_count": 31,
   "id": "4984aaf3",
   "metadata": {},
   "outputs": [],
   "source": [
    "# Feature distributions\n",
    "key_features = [\n",
    "    'blueGoldDiff',\n",
    "    'blueExperienceDiff',\n",
    "    'blueKills',\n",
    "    'blueDeaths',\n",
    "    'blueEliteMonsters',\n",
    "    'blueDragons',\n",
    "    'blueTowersDestroyed',\n",
    "]\n",
    "fig, axes = plt.subplots(len(key_features), 1, figsize=(7, 2.6 * len(key_features)))\n",
    "for feature, ax in zip(key_features, axes):\n",
    "    sns.histplot(\n",
    "        train_df,\n",
    "        x=feature,\n",
    "        hue=TARGET,\n",
    "        element='step',\n",
    "        stat='density',\n",
    "        common_norm=False,\n",
    "        palette=['#d95f02', '#1b9e77'],\n",
    "        ax=ax,\n",
    "    )\n",
    "    ax.set_title(f'Distribution of {feature} by Match Outcome')\n",
    "fig.tight_layout()\n",
    "fig.savefig(figures_dir / 'feature_distributions.png', dpi=300)\n",
    "plt.close(fig)"
   ]
  },
  {
   "cell_type": "code",
   "execution_count": 32,
   "id": "44c0ae46",
   "metadata": {},
   "outputs": [
    {
     "data": {
      "text/html": [
       "<div>\n",
       "<style scoped>\n",
       "    .dataframe tbody tr th:only-of-type {\n",
       "        vertical-align: middle;\n",
       "    }\n",
       "\n",
       "    .dataframe tbody tr th {\n",
       "        vertical-align: top;\n",
       "    }\n",
       "\n",
       "    .dataframe thead th {\n",
       "        text-align: right;\n",
       "    }\n",
       "</style>\n",
       "<table border=\"1\" class=\"dataframe\">\n",
       "  <thead>\n",
       "    <tr style=\"text-align: right;\">\n",
       "      <th>blueWins</th>\n",
       "      <th>Red Victory</th>\n",
       "      <th>Blue Victory</th>\n",
       "    </tr>\n",
       "  </thead>\n",
       "  <tbody>\n",
       "    <tr>\n",
       "      <th>blueDragons</th>\n",
       "      <td>0.262693</td>\n",
       "      <td>0.462475</td>\n",
       "    </tr>\n",
       "    <tr>\n",
       "      <th>blueHeralds</th>\n",
       "      <td>0.153322</td>\n",
       "      <td>0.221349</td>\n",
       "    </tr>\n",
       "    <tr>\n",
       "      <th>blueEliteMonsters</th>\n",
       "      <td>0.416014</td>\n",
       "      <td>0.683824</td>\n",
       "    </tr>\n",
       "    <tr>\n",
       "      <th>blueTowersDestroyed</th>\n",
       "      <td>0.021975</td>\n",
       "      <td>0.081389</td>\n",
       "    </tr>\n",
       "  </tbody>\n",
       "</table>\n",
       "</div>"
      ],
      "text/plain": [
       "blueWins             Red Victory  Blue Victory\n",
       "blueDragons             0.262693      0.462475\n",
       "blueHeralds             0.153322      0.221349\n",
       "blueEliteMonsters       0.416014      0.683824\n",
       "blueTowersDestroyed     0.021975      0.081389"
      ]
     },
     "execution_count": 32,
     "metadata": {},
     "output_type": "execute_result"
    }
   ],
   "source": [
    "# Objective control comparison\n",
    "objective_features = ['blueDragons', 'blueHeralds', 'blueEliteMonsters', 'blueTowersDestroyed']\n",
    "obj_stats = (\n",
    "    train_df.groupby(TARGET)[objective_features]\n",
    "    .mean()\n",
    "    .rename(index={0: 'Red Victory', 1: 'Blue Victory'})\n",
    "    .T\n",
    ")\n",
    "fig, ax = plt.subplots(figsize=(7.5, 4.2))\n",
    "obj_stats.plot(kind='bar', ax=ax, color=['#d95f02', '#1b9e77'])\n",
    "ax.set_ylabel('Average Count (First 10 Minutes)')\n",
    "ax.set_title('Objective Control by Winning Team')\n",
    "ax.legend(title='Outcome')\n",
    "fig.tight_layout()\n",
    "fig.savefig(figures_dir / 'objective_control.png', dpi=300)\n",
    "plt.close(fig)\n",
    "obj_stats"
   ]
  },
  {
   "cell_type": "code",
   "execution_count": 35,
   "id": "c6c528cf",
   "metadata": {},
   "outputs": [],
   "source": [
    "# Correlation heatmap\n",
    "selected = list(corr_with_target.head(12).index) + [TARGET]\n",
    "corr_matrix = train_df[selected].corr()\n",
    "fig, ax = plt.subplots(figsize=(9, 7))\n",
    "sns.heatmap(\n",
    "    corr_matrix,\n",
    "    annot=True,\n",
    "    fmt='.2f',\n",
    "    cmap='coolwarm',\n",
    "    center=0,\n",
    "    cbar_kws={'shrink': 0.7},\n",
    "    ax=ax,\n",
    ")\n",
    "ax.set_title('Correlation Heatmap: Top Outcome-Linked Features')\n",
    "fig.tight_layout()\n",
    "fig.savefig(figures_dir / 'top_feature_correlation_heatmap.png', dpi=300)\n",
    "plt.close(fig)"
   ]
  },
  {
   "cell_type": "markdown",
   "id": "d39d69fb",
   "metadata": {},
   "source": [
    "## 7. Outlier Assessment\n",
    "\n",
    "We evaluate interquartile ranges for the primary advantage metrics. Low outlier fractions reinforce that models can work with raw counts (after optional scaling)."
   ]
  },
  {
   "cell_type": "code",
   "execution_count": 38,
   "id": "705ed51b",
   "metadata": {},
   "outputs": [
    {
     "data": {
      "text/plain": [
       "{'blueGoldDiff': {'iqr': 3143.0,\n",
       "  'lower_bound': -6294.0,\n",
       "  'upper_bound': 6278.0,\n",
       "  'outlier_fraction': 0.012779956978362646},\n",
       " 'blueExperienceDiff': {'iqr': 2516.0,\n",
       "  'lower_bound': -5085.0,\n",
       "  'upper_bound': 4979.0,\n",
       "  'outlier_fraction': 0.011388080475768695},\n",
       " 'blueKills': {'iqr': 4.0,\n",
       "  'lower_bound': -2.0,\n",
       "  'upper_bound': 14.0,\n",
       "  'outlier_fraction': 0.00835125901556371}}"
      ]
     },
     "execution_count": 38,
     "metadata": {},
     "output_type": "execute_result"
    }
   ],
   "source": [
    "outlier_features = ['blueGoldDiff', 'blueExperienceDiff', 'blueKills']\n",
    "outlier_summary = {}\n",
    "for feat in outlier_features:\n",
    "    series = train_df[feat]\n",
    "    q1, q3 = series.quantile([0.25, 0.75])\n",
    "    iqr = float(q3 - q1)\n",
    "    lower = float(q1 - 1.5 * iqr)\n",
    "    upper = float(q3 + 1.5 * iqr)\n",
    "    outliers = series[(series < lower) | (series > upper)]\n",
    "    outlier_summary[feat] = {\n",
    "        'iqr': iqr,\n",
    "        'lower_bound': lower,\n",
    "        'upper_bound': upper,\n",
    "        'outlier_fraction': float(len(outliers) / len(series)),\n",
    "    }\n",
    "outlier_summary"
   ]
  },
  {
   "cell_type": "markdown",
   "id": "ce2b2686",
   "metadata": {},
   "source": [
    "## 8. Baseline Models\n",
    "\n",
    "The homework requires a simple baseline model. We compare a majority-class `DummyClassifier` with a regularized logistic regression pipeline to establish reference metrics (accuracy, F1, ROC-AUC). `gameId` is excluded because it is an identifier."
   ]
  },
  {
   "cell_type": "code",
   "execution_count": 40,
   "id": "5b1eebbf",
   "metadata": {},
   "outputs": [
    {
     "data": {
      "text/plain": [
       "{'dummy_majority': {'accuracy': 0.5010121457489879, 'f1': 0.0},\n",
       " 'logistic_regression': {'accuracy': 0.7160931174089069,\n",
       "  'f1': 0.7176648213387016,\n",
       "  'roc_auc': 0.8057624930850082}}"
      ]
     },
     "execution_count": 40,
     "metadata": {},
     "output_type": "execute_result"
    }
   ],
   "source": [
    "feature_cols = [col for col in train_df.columns if col not in {TARGET, 'gameId'}]\n",
    "X_train = train_df[feature_cols]\n",
    "y_train = train_df[TARGET]\n",
    "X_test = test_df[feature_cols]\n",
    "y_test = test_df[TARGET]\n",
    "\n",
    "baseline_results = {}\n",
    "\n",
    "dummy = DummyClassifier(strategy='most_frequent')\n",
    "dummy.fit(X_train, y_train)\n",
    "y_pred_dummy = dummy.predict(X_test)\n",
    "baseline_results['dummy_majority'] = {\n",
    "    'accuracy': float(accuracy_score(y_test, y_pred_dummy)),\n",
    "    'f1': float(f1_score(y_test, y_pred_dummy, zero_division=0)),\n",
    "}\n",
    "\n",
    "log_reg = Pipeline(\n",
    "    steps=[\n",
    "        ('scaler', StandardScaler()),\n",
    "        ('clf', LogisticRegression(max_iter=1000, solver='lbfgs'))\n",
    "    ]\n",
    ")\n",
    "log_reg.fit(X_train, y_train)\n",
    "y_pred_lr = log_reg.predict(X_test)\n",
    "y_proba_lr = log_reg.predict_proba(X_test)[:, 1]\n",
    "baseline_results['logistic_regression'] = {\n",
    "    'accuracy': float(accuracy_score(y_test, y_pred_lr)),\n",
    "    'f1': float(f1_score(y_test, y_pred_lr)),\n",
    "    'roc_auc': float(roc_auc_score(y_test, y_proba_lr)),\n",
    "}\n",
    "\n",
    "baseline_results"
   ]
  },
  {
   "cell_type": "markdown",
   "id": "408567e0",
   "metadata": {},
   "source": [
    "## 9. Persist Outputs\n",
    "\n",
    "To keep the repo reproducible, we persist summaries, split metadata, outlier stats, baseline metrics, and the sample dataset under `data/processed/`. Charts are already saved under `figures/eda/`."
   ]
  },
  {
   "cell_type": "code",
   "execution_count": 42,
   "id": "f3776fe9",
   "metadata": {},
   "outputs": [
    {
     "data": {
      "text/plain": [
       "['baseline_metrics.json',\n",
       " 'eda_summary.json',\n",
       " 'numeric_feature_summary.csv',\n",
       " 'outlier_summary.json',\n",
       " 'sample_matches.csv',\n",
       " 'split_metadata.json']"
      ]
     },
     "execution_count": 42,
     "metadata": {},
     "output_type": "execute_result"
    }
   ],
   "source": [
    "(processed_dir / 'eda_summary.json').write_text(json.dumps(profile, indent=2))\n",
    "numeric_summary.round(3).to_csv(processed_dir / 'numeric_feature_summary.csv')\n",
    "split_meta = {\n",
    "    'random_state': RANDOM_STATE,\n",
    "    'test_size': TEST_SIZE,\n",
    "    'stratified': True,\n",
    "    'train_count': int(train_df.shape[0]),\n",
    "    'test_count': int(test_df.shape[0]),\n",
    "}\n",
    "(processed_dir / 'split_metadata.json').write_text(json.dumps(split_meta, indent=2))\n",
    "(processed_dir / 'outlier_summary.json').write_text(json.dumps(outlier_summary, indent=2))\n",
    "(processed_dir / 'baseline_metrics.json').write_text(json.dumps(baseline_results, indent=2))\n",
    "sorted(p.name for p in processed_dir.glob('*'))"
   ]
  },
  {
   "cell_type": "markdown",
   "id": "850e8cd8",
   "metadata": {},
   "source": [
    "## 10. Key Takeaways for Modeling\n",
    "\n",
    "- Blue vs. red wins remain perfectly balanced, so class reweighting is optional.\n",
    "- Gold and experience differentials dominate the signal (|corr| ≈ 0.5), guiding feature importance   expectations for tree ensembles and neural nets.\n",
    "- Objective control (dragons, heralds, towers) differentiates outcomes, suggesting engineered difference   features could boost models.\n",
    "- Logistic regression already beats the majority baseline, validating that even linear models capture   early-game signals—useful when benchmarking more complex approaches."
   ]
  }
 ],
 "metadata": {
  "kernelspec": {
   "display_name": "Python 3 (ipykernel)",
   "language": "python",
   "name": "python3"
  },
  "language_info": {
   "codemirror_mode": {
    "name": "ipython",
    "version": 3
   },
   "file_extension": ".py",
   "mimetype": "text/x-python",
   "name": "python",
   "nbconvert_exporter": "python",
   "pygments_lexer": "ipython3",
   "version": "3.12.2"
  }
 },
 "nbformat": 4,
 "nbformat_minor": 5
}
