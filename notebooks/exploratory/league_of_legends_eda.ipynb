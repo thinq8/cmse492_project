{
 "cells": [
  {
   "cell_type": "markdown",
   "id": "6a82dc85",
   "metadata": {},
   "source": [
    "# League of Legends Early-Game EDA\n",
    "\n",
    "This notebook documents the exploratory data analysis (EDA) required for the CMSE 492 final project. It mirrors the expectations outlined in the course requirements document by profiling the dataset, establishing a reproducible train/test split, and surfacing insights that inform feature engineering and model selection."
   ]
  },
  {
   "cell_type": "markdown",
   "id": "19b5ef61",
   "metadata": {},
   "source": [
    "## 1. Environment Setup\n",
    "We import the scientific Python stack specified in `requirements.txt`, configure Matplotlib for headless execution, and set up Seaborn styling for consistent visuals."
   ]
  },
  {
   "cell_type": "code",
   "execution_count": null,
   "id": "b0e671e1",
   "metadata": {},
   "outputs": [],
   "source": [
    "from __future__ import annotations\n",
    "\n",
    "import json\n",
    "from pathlib import Path\n",
    "\n",
    "import matplotlib\n",
    "matplotlib.use('Agg')  # Keep plots deterministic across local/remote runs\n",
    "import matplotlib.pyplot as plt\n",
    "import numpy as np\n",
    "import pandas as pd\n",
    "import seaborn as sns\n",
    "from sklearn.model_selection import train_test_split\n",
    "\n",
    "sns.set_theme(style='whitegrid')"
   ]
  },
  {
   "cell_type": "markdown",
   "id": "77bd2751",
   "metadata": {},
   "source": [
    "## 2. Load Raw Data\n",
    "The requirements emphasize documenting data provenance and structure. We load the Kaggle CSV that captures Diamond-tier matches capped at the 10-minute mark."
   ]
  },
  {
   "cell_type": "code",
   "execution_count": null,
   "id": "0791be1d",
   "metadata": {},
   "outputs": [],
   "source": [
    "RAW_PATH = Path('data/raw/high_diamond_ranked_10min.csv')\n",
    "if not RAW_PATH.exists():\n",
    "    raise FileNotFoundError(f'Dataset missing at {RAW_PATH}')\n",
    "\n",
    "df = pd.read_csv(RAW_PATH)\n",
    "df.head()"
   ]
  },
  {
   "cell_type": "markdown",
   "id": "4171b403",
   "metadata": {},
   "source": [
    "## 3. Train/Test Split Rationale\n",
    "The course requires that data splitting happens prior to deeper EDA to avoid leakage. We reserve 20% of matches for held-out evaluation, stratifying on the binary outcome so downstream models inherit balanced folds."
   ]
  },
  {
   "cell_type": "code",
   "execution_count": null,
   "id": "f3bf2bde",
   "metadata": {},
   "outputs": [],
   "source": [
    "TARGET = 'blueWins'\n",
    "TEST_SIZE = 0.2\n",
    "RANDOM_STATE = 42\n",
    "\n",
    "train_df, test_df = train_test_split(\n",
    "    df,\n",
    "    test_size=TEST_SIZE,\n",
    "    stratify=df[TARGET],\n",
    "    random_state=RANDOM_STATE,\n",
    ")\n",
    "train_df.shape, test_df.shape"
   ]
  },
  {
   "cell_type": "markdown",
   "id": "31a7cc6b",
   "metadata": {},
   "source": [
    "## 4. Dataset Profile\n",
    "We summarise row/feature counts, class balance, and missingness. These checkpoints address the requirements' call for describing columns, sample counts, and data quality concerns."
   ]
  },
  {
   "cell_type": "code",
   "execution_count": null,
   "id": "61f0ad45",
   "metadata": {},
   "outputs": [],
   "source": [
    "profile = {\n",
    "    'train_rows': int(train_df.shape[0]),\n",
    "    'test_rows': int(test_df.shape[0]),\n",
    "    'n_features': int(train_df.shape[1] - 1),\n",
    "    'class_balance_train': train_df[TARGET].value_counts(normalize=True).round(4).to_dict(),\n",
    "    'missing_rates': train_df.isnull().mean().round(4).to_dict(),\n",
    "}\n",
    "profile"
   ]
  },
  {
   "cell_type": "markdown",
   "id": "a20b134a",
   "metadata": {},
   "source": [
    "### Descriptive Statistics\n",
    "The full numeric summary helps detect anomalies (e.g., impossible ranges) and supports later feature scaling choices for models like logistic regression and neural networks."
   ]
  },
  {
   "cell_type": "code",
   "execution_count": null,
   "id": "72d8ac1c",
   "metadata": {},
   "outputs": [],
   "source": [
    "numeric_summary = train_df.select_dtypes(include=[np.number]).describe().T\n",
    "numeric_summary.head()"
   ]
  },
  {
   "cell_type": "markdown",
   "id": "2c32f158",
   "metadata": {},
   "source": [
    "## 5. Target Correlations\n",
    "Understanding which metrics align with match outcomes guides baseline model selection and feature importance expectations. We inspect absolute correlations with `blueWins`."
   ]
  },
  {
   "cell_type": "code",
   "execution_count": null,
   "id": "f2600a24",
   "metadata": {},
   "outputs": [],
   "source": [
    "corr_with_target = (\n",
    "    train_df.select_dtypes(include=[np.number]).corr()[TARGET]\n",
    "    .drop(TARGET)\n",
    "    .sort_values(key=lambda s: s.abs(), ascending=False)\n",
    ")\n",
    "corr_with_target.head(10)"
   ]
  },
  {
   "cell_type": "markdown",
   "id": "bdd91cbb",
   "metadata": {},
   "source": [
    "## 6. Visual Diagnostics\n",
    "Plots expose distributional differences and objective control gaps between winning and losing teams. These visuals support the report's narrative sections (Data Description, Results) and motivate feature engineering."
   ]
  },
  {
   "cell_type": "code",
   "execution_count": null,
   "id": "83dbd300",
   "metadata": {},
   "outputs": [],
   "source": [
    "figures_dir = Path('figures/eda')\n",
    "figures_dir.mkdir(parents=True, exist_ok=True)\n",
    "\n",
    "# Class balance\n",
    "fig, ax = plt.subplots(figsize=(6, 4))\n",
    "class_counts = train_df[TARGET].value_counts().sort_index()\n",
    "ax.bar(['Red Wins (0)', 'Blue Wins (1)'], class_counts.values, color=['#d95f02', '#1b9e77'])\n",
    "ax.set_ylabel('Match Count')\n",
    "ax.set_title('Train Split Class Balance')\n",
    "for label, count in zip(['Red Wins (0)', 'Blue Wins (1)'], class_counts.values):\n",
    "    ax.annotate(f'{count}', (label, count), ha='center', va='bottom', fontsize=9)\n",
    "fig.tight_layout()\n",
    "fig.savefig(figures_dir / 'class_balance.png', dpi=300)\n",
    "plt.close(fig)\n",
    "class_counts"
   ]
  },
  {
   "cell_type": "code",
   "execution_count": null,
   "id": "78512b9d",
   "metadata": {},
   "outputs": [],
   "source": [
    "# Feature distributions\n",
    "key_features = [\n",
    "    'blueGoldDiff',\n",
    "    'blueExperienceDiff',\n",
    "    'blueKills',\n",
    "    'blueDeaths',\n",
    "    'blueEliteMonsters',\n",
    "    'blueDragons',\n",
    "    'blueTowersDestroyed',\n",
    "]\n",
    "fig, axes = plt.subplots(len(key_features), 1, figsize=(7, 2.6 * len(key_features)))\n",
    "for feature, ax in zip(key_features, axes):\n",
    "    sns.histplot(\n",
    "        train_df,\n",
    "        x=feature,\n",
    "        hue=TARGET,\n",
    "        element='step',\n",
    "        stat='density',\n",
    "        common_norm=False,\n",
    "        palette=['#d95f02', '#1b9e77'],\n",
    "        ax=ax,\n",
    "    )\n",
    "    ax.set_title(f'Distribution of {feature} by Match Outcome')\n",
    "fig.tight_layout()\n",
    "fig.savefig(figures_dir / 'feature_distributions.png', dpi=300)\n",
    "plt.close(fig)"
   ]
  },
  {
   "cell_type": "code",
   "execution_count": null,
   "id": "e6fa8fd7",
   "metadata": {},
   "outputs": [],
   "source": [
    "# Objective control comparison\n",
    "objective_features = ['blueDragons', 'blueHeralds', 'blueEliteMonsters', 'blueTowersDestroyed']\n",
    "obj_stats = (\n",
    "    train_df.groupby(TARGET)[objective_features]\n",
    "    .mean()\n",
    "    .rename(index={0: 'Red Victory', 1: 'Blue Victory'})\n",
    "    .T\n",
    ")\n",
    "fig, ax = plt.subplots(figsize=(7.5, 4.2))\n",
    "obj_stats.plot(kind='bar', ax=ax, color=['#d95f02', '#1b9e77'])\n",
    "ax.set_ylabel('Average Count (First 10 Minutes)')\n",
    "ax.set_title('Objective Control by Winning Team')\n",
    "ax.legend(title='Outcome')\n",
    "fig.tight_layout()\n",
    "fig.savefig(figures_dir / 'objective_control.png', dpi=300)\n",
    "plt.close(fig)\n",
    "obj_stats"
   ]
  },
  {
   "cell_type": "code",
   "execution_count": null,
   "id": "cfd8615f",
   "metadata": {},
   "outputs": [],
   "source": [
    "# Correlation heatmap\n",
    "selected = list(corr_with_target.head(12).index) + [TARGET]\n",
    "corr_matrix = train_df[selected].corr()\n",
    "fig, ax = plt.subplots(figsize=(9, 7))\n",
    "sns.heatmap(\n",
    "    corr_matrix,\n",
    "    annot=True,\n",
    "    fmt='.2f',\n",
    "    cmap='coolwarm',\n",
    "    center=0,\n",
    "    cbar_kws={'shrink': 0.7},\n",
    "    ax=ax,\n",
    ")\n",
    "ax.set_title('Correlation Heatmap: Top Outcome-Linked Features')\n",
    "fig.tight_layout()\n",
    "fig.savefig(figures_dir / 'top_feature_correlation_heatmap.png', dpi=300)\n",
    "plt.close(fig)"
   ]
  },
  {
   "cell_type": "markdown",
   "id": "1ef7da86",
   "metadata": {},
   "source": [
    "## 7. Outlier Assessment\n",
    "We estimate interquartile ranges (IQR) for critical advantage metrics. Low outlier rates suggest we can feed raw values into tree ensembles, while scaling-aware models can handle them after standardisation."
   ]
  },
  {
   "cell_type": "code",
   "execution_count": null,
   "id": "f8a2b0fa",
   "metadata": {},
   "outputs": [],
   "source": [
    "outlier_features = ['blueGoldDiff', 'blueExperienceDiff', 'blueKills']\n",
    "outlier_summary = {}\n",
    "for feat in outlier_features:\n",
    "    series = train_df[feat]\n",
    "    q1, q3 = series.quantile([0.25, 0.75])\n",
    "    iqr = float(q3 - q1)\n",
    "    lower = float(q1 - 1.5 * iqr)\n",
    "    upper = float(q3 + 1.5 * iqr)\n",
    "    outliers = series[(series < lower) | (series > upper)]\n",
    "    outlier_summary[feat] = {\n",
    "        'iqr': iqr,\n",
    "        'lower_bound': lower,\n",
    "        'upper_bound': upper,\n",
    "        'outlier_fraction': float(len(outliers) / len(series)),\n",
    "    }\n",
    "outlier_summary"
   ]
  },
  {
   "cell_type": "markdown",
   "id": "d15822b5",
   "metadata": {},
   "source": [
    "## 8. Persist EDA Outputs\n",
    "Storing summaries enables downstream scripts and the final report to reuse statistics without recomputation, satisfying the reproducibility requirement."
   ]
  },
  {
   "cell_type": "code",
   "execution_count": null,
   "id": "ba03c9b1",
   "metadata": {},
   "outputs": [],
   "source": [
    "processed_dir = Path('data/processed')\n",
    "processed_dir.mkdir(parents=True, exist_ok=True)\n",
    "\n",
    "(processed_dir / 'eda_summary.json').write_text(json.dumps(profile, indent=2))\n",
    "numeric_summary.round(3).to_csv(processed_dir / 'numeric_feature_summary.csv')\n",
    "split_meta = {\n",
    "    'random_state': RANDOM_STATE,\n",
    "    'test_size': TEST_SIZE,\n",
    "    'stratified': True,\n",
    "    'train_count': int(train_df.shape[0]),\n",
    "    'test_count': int(test_df.shape[0]),\n",
    "}\n",
    "(processed_dir / 'split_metadata.json').write_text(json.dumps(split_meta, indent=2))\n",
    "(processed_dir / 'outlier_summary.json').write_text(json.dumps(outlier_summary, indent=2))\n",
    "\n",
    "path_checks = sorted(p.name for p in processed_dir.glob('*'))\n",
    "path_checks"
   ]
  },
  {
   "cell_type": "markdown",
   "id": "f820bc92",
   "metadata": {},
   "source": [
    "## 9. Key Takeaways for Modeling\n",
    "- **Balanced outcome**: Blue vs. red wins remain near 50/50, so class reweighting is optional.\n",
    "- **Gold/experience gaps dominate**: Confirms that economic tempo metrics should appear in every baseline model.\n",
    "- **Objective control matters**: Dragons and Heralds show separation that tree models can exploit; these features may benefit from engineered differences.\n",
    "- **Minimal outliers**: Logistic regression and neural networks can rely on standard scaling without aggressive trimming.\n",
    "\n",
    "These observations map directly to the proposal/report sections on Data Description, Preprocessing, Modeling Strategy, and Interpretation."
   ]
  }
 ],
 "metadata": {
  "kernelspec": {
   "display_name": "Python 3",
   "language": "python",
   "name": "python3"
  },
  "language_info": {
   "name": "python",
   "version": "3.9"
  }
 },
 "nbformat": 4,
 "nbformat_minor": 5
}
